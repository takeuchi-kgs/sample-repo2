{
 "cells": [
  {
   "cell_type": "code",
   "execution_count": 1,
   "id": "1ad3d11f",
   "metadata": {},
   "outputs": [],
   "source": [
    "import polars"
   ]
  },
  {
   "cell_type": "code",
   "execution_count": null,
   "id": "e58b59bc",
   "metadata": {},
   "outputs": [],
   "source": []
  },
  {
   "cell_type": "code",
   "execution_count": 3,
   "id": "bdvdgna09qv",
   "metadata": {},
   "outputs": [],
   "source": [
    "import pandas as pd\n",
    "import numpy as np\n",
    "import matplotlib.pyplot as plt"
   ]
  },
  {
   "cell_type": "code",
   "execution_count": 4,
   "id": "n531negulbs",
   "metadata": {},
   "outputs": [],
   "source": [
    "%matplotlib inline"
   ]
  },
  {
   "cell_type": "code",
   "execution_count": 9,
   "id": "nfxnoll9mho",
   "metadata": {},
   "outputs": [],
   "source": [
    "import requests\n",
    "from datetime import datetime\n",
    "import json"
   ]
  },
  {
   "cell_type": "code",
   "execution_count": 11,
   "id": "lm4f42p1ba",
   "metadata": {},
   "outputs": [
    {
     "name": "stdout",
     "output_type": "stream",
     "text": [
      "試行中: WorldTimeAPI (HTTP)\n",
      "× WorldTimeAPI (HTTP)でエラー: ('Connection aborted.', ConnectionResetError(54, 'Connection reset by peer'))\n",
      "試行中: TimeAPI\n",
      "✓ TimeAPIから取得成功\n",
      "現在の時刻: 2025年07月30日 06時49分45秒\n",
      "タイムゾーン: Asia/Tokyo\n"
     ]
    }
   ],
   "source": [
    "# 複数のAPIを試して現在時刻を取得\n",
    "import time\n",
    "\n",
    "def get_current_time():\n",
    "    # 複数の時刻APIを順番に試す\n",
    "    apis = [\n",
    "        {\n",
    "            'url': 'http://worldtimeapi.org/api/timezone/Asia/Tokyo',\n",
    "            'name': 'WorldTimeAPI (HTTP)'\n",
    "        },\n",
    "        {\n",
    "            'url': 'https://timeapi.io/api/Time/current/zone?timeZone=Asia/Tokyo',\n",
    "            'name': 'TimeAPI'\n",
    "        },\n",
    "        {\n",
    "            'url': 'http://worldclockapi.com/api/json/est/now',\n",
    "            'name': 'WorldClockAPI'\n",
    "        }\n",
    "    ]\n",
    "    \n",
    "    for api in apis:\n",
    "        try:\n",
    "            print(f\"試行中: {api['name']}\")\n",
    "            response = requests.get(api['url'], timeout=5)\n",
    "            \n",
    "            if response.status_code == 200:\n",
    "                data = response.json()\n",
    "                print(f\"✓ {api['name']}から取得成功\")\n",
    "                \n",
    "                # WorldTimeAPIの場合\n",
    "                if 'datetime' in data:\n",
    "                    current_time = data['datetime']\n",
    "                    timezone = data.get('timezone', 'Asia/Tokyo')\n",
    "                    dt = datetime.fromisoformat(current_time.replace('Z', '+00:00'))\n",
    "                \n",
    "                # TimeAPIの場合\n",
    "                elif 'dateTime' in data:\n",
    "                    current_time = data['dateTime']\n",
    "                    timezone = data.get('timeZone', 'Asia/Tokyo')\n",
    "                    dt = datetime.fromisoformat(current_time.replace('Z', '+00:00'))\n",
    "                \n",
    "                # その他のAPI\n",
    "                else:\n",
    "                    print(f\"未対応のAPIレスポンス形式: {list(data.keys())}\")\n",
    "                    continue\n",
    "                \n",
    "                formatted_time = dt.strftime('%Y年%m月%d日 %H時%M分%S秒')\n",
    "                print(f\"現在の時刻: {formatted_time}\")\n",
    "                print(f\"タイムゾーン: {timezone}\")\n",
    "                return True\n",
    "                \n",
    "        except Exception as e:\n",
    "            print(f\"× {api['name']}でエラー: {e}\")\n",
    "            continue\n",
    "    \n",
    "    return False\n",
    "\n",
    "# 時刻取得を実行\n",
    "success = get_current_time()\n",
    "\n",
    "if not success:\n",
    "    print(\"\\n全ての外部APIが失敗しました。ローカル時刻を表示します:\")\n",
    "    local_time = datetime.now()\n",
    "    print(f\"ローカル時刻: {local_time.strftime('%Y年%m月%d日 %H時%M分%S秒')}\")\n",
    "    print(\"※ ネットワーク接続やファイアウォール設定を確認してください\")"
   ]
  }
 ],
 "metadata": {
  "kernelspec": {
   "display_name": "sample-repo2",
   "language": "python",
   "name": "python3"
  },
  "language_info": {
   "codemirror_mode": {
    "name": "ipython",
    "version": 3
   },
   "file_extension": ".py",
   "mimetype": "text/x-python",
   "name": "python",
   "nbconvert_exporter": "python",
   "pygments_lexer": "ipython3",
   "version": "3.12.10"
  }
 },
 "nbformat": 4,
 "nbformat_minor": 5
}
